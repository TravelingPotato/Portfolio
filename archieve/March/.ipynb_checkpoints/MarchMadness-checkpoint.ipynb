{
 "cells": [
  {
   "cell_type": "code",
   "execution_count": 1,
   "metadata": {},
   "outputs": [],
   "source": [
    "import json\n",
    "import pandas as pd\n",
    "import numpy as np\n",
    "\n",
    "file = 'stats.json'"
   ]
  },
  {
   "cell_type": "code",
   "execution_count": 2,
   "metadata": {},
   "outputs": [],
   "source": [
    "with open(file) as f:\n",
    "    data = json.load(f)"
   ]
  },
  {
   "cell_type": "code",
   "execution_count": 3,
   "metadata": {},
   "outputs": [],
   "source": [
    "sample = pd.DataFrame(data['North Carolina Central']['Team'], index = [0])"
   ]
  },
  {
   "cell_type": "code",
   "execution_count": null,
   "metadata": {},
   "outputs": [],
   "source": []
  },
  {
   "cell_type": "code",
   "execution_count": 4,
   "metadata": {},
   "outputs": [],
   "source": [
    "cols = (sample.keys())"
   ]
  },
  {
   "cell_type": "code",
   "execution_count": 5,
   "metadata": {},
   "outputs": [],
   "source": [
    "teams = list(data.keys())"
   ]
  },
  {
   "cell_type": "code",
   "execution_count": 6,
   "metadata": {},
   "outputs": [],
   "source": [
    "df_team = pd.DataFrame(columns=cols)\n",
    "index = 0\n",
    "\n",
    "for i in teams:\n",
    "    row = data.get(i)\n",
    "    df_team = df_team.append(pd.DataFrame(row['Team'],index = [index]))\n",
    "    index += 1\n",
    "    \n",
    "df_op = pd.DataFrame(columns=cols)\n",
    "index = 0\n",
    "\n",
    "for i in teams:\n",
    "    row = data.get(i)\n",
    "    df_op = df_op.append(pd.DataFrame(row['Opponent'],index = [index]))\n",
    "    index += 1"
   ]
  },
  {
   "cell_type": "code",
   "execution_count": 7,
   "metadata": {},
   "outputs": [],
   "source": [
    "df_team['Team'] = pd.DataFrame(teams)\n",
    "df_op['Team'] = pd.DataFrame(teams)"
   ]
  },
  {
   "cell_type": "code",
   "execution_count": 8,
   "metadata": {},
   "outputs": [],
   "source": [
    "df_team.to_csv(r'Team_stats.csv')\n",
    "df_op.to_csv(r'Opp_stats.csv')"
   ]
  },
  {
   "cell_type": "code",
   "execution_count": 9,
   "metadata": {},
   "outputs": [
    {
     "data": {
      "text/html": [
       "<div>\n",
       "<style scoped>\n",
       "    .dataframe tbody tr th:only-of-type {\n",
       "        vertical-align: middle;\n",
       "    }\n",
       "\n",
       "    .dataframe tbody tr th {\n",
       "        vertical-align: top;\n",
       "    }\n",
       "\n",
       "    .dataframe thead th {\n",
       "        text-align: right;\n",
       "    }\n",
       "</style>\n",
       "<table border=\"1\" class=\"dataframe\">\n",
       "  <thead>\n",
       "    <tr style=\"text-align: right;\">\n",
       "      <th></th>\n",
       "      <th>team1</th>\n",
       "      <th>team2</th>\n",
       "      <th>round</th>\n",
       "      <th>winner</th>\n",
       "    </tr>\n",
       "  </thead>\n",
       "  <tbody>\n",
       "    <tr>\n",
       "      <th>0</th>\n",
       "      <td>Belmont</td>\n",
       "      <td>Temple</td>\n",
       "      <td>1</td>\n",
       "      <td>1</td>\n",
       "    </tr>\n",
       "    <tr>\n",
       "      <th>1</th>\n",
       "      <td>North Dakota State</td>\n",
       "      <td>North Carolina Central</td>\n",
       "      <td>1</td>\n",
       "      <td>1</td>\n",
       "    </tr>\n",
       "    <tr>\n",
       "      <th>2</th>\n",
       "      <td>Arizona State</td>\n",
       "      <td>St. John's (NY)</td>\n",
       "      <td>1</td>\n",
       "      <td>1</td>\n",
       "    </tr>\n",
       "    <tr>\n",
       "      <th>3</th>\n",
       "      <td>Prairie View</td>\n",
       "      <td>Fairleigh Dickinson</td>\n",
       "      <td>1</td>\n",
       "      <td>0</td>\n",
       "    </tr>\n",
       "    <tr>\n",
       "      <th>4</th>\n",
       "      <td>Duke</td>\n",
       "      <td>North Dakota State</td>\n",
       "      <td>2</td>\n",
       "      <td>1</td>\n",
       "    </tr>\n",
       "  </tbody>\n",
       "</table>\n",
       "</div>"
      ],
      "text/plain": [
       "                team1                   team2  round  winner\n",
       "0             Belmont                  Temple      1       1\n",
       "1  North Dakota State  North Carolina Central      1       1\n",
       "2       Arizona State         St. John's (NY)      1       1\n",
       "3        Prairie View     Fairleigh Dickinson      1       0\n",
       "4                Duke      North Dakota State      2       1"
      ]
     },
     "execution_count": 9,
     "metadata": {},
     "output_type": "execute_result"
    }
   ],
   "source": [
    "games = pd.read_csv('games.csv')\n",
    "games.head()"
   ]
  },
  {
   "cell_type": "code",
   "execution_count": 10,
   "metadata": {},
   "outputs": [],
   "source": [
    "cols2 = list(cols)\n",
    "cols2.append('Team')\n",
    "full = pd.DataFrame()\n",
    "\n",
    "team1_team = pd.DataFrame()\n",
    "team2_team = pd.DataFrame()\n",
    "team1_opp = pd.DataFrame()\n",
    "team2_opp = pd.DataFrame()\n",
    "\n",
    "index = 0\n",
    "for i in games.T:\n",
    "    \n",
    "    team1 = games['team1'][i]\n",
    "    team2 = games['team2'][i]\n",
    "    \n",
    "    indext1 = df_team.index[df_team['Team'] == team1]\n",
    "    indext2 = df_team.index[df_team['Team'] == team2]\n",
    "    indexo1 = df_team.index[df_op['Team'] == team1]\n",
    "    indexo2 = df_team.index[df_op['Team'] == team2]\n",
    "    team1_team = team1_team.append(df_team.iloc[indext1].add_prefix('t1t_'),ignore_index = True)\n",
    "    team2_team = team2_team.append(df_team.iloc[indext2].add_prefix('t2t_'),ignore_index=True)\n",
    "    team1_opp = team1_opp.append(df_op.iloc[indexo1].add_prefix('t1o_'),ignore_index = True)\n",
    "    team2_opp = team2_opp.append(df_op.iloc[indexo2].add_prefix('t2o_'),ignore_index=True)\n",
    "    \n",
    "full = pd.concat([games, team1_team,team1_opp,team2_team,team2_opp], axis = 1)\n",
    "\n",
    "full = full.drop(columns = ['t1t_Team', 't1o_Team', 't2t_Team', 't2o_Team'])"
   ]
  },
  {
   "cell_type": "code",
   "execution_count": 11,
   "metadata": {},
   "outputs": [],
   "source": [
    "full['round'] = full['round'].astype('category')\n",
    "full['winner'] = full['winner'].astype('category')"
   ]
  },
  {
   "cell_type": "code",
   "execution_count": 13,
   "metadata": {},
   "outputs": [],
   "source": [
    "full.to_csv(r'Full_stats.csv')"
   ]
  },
  {
   "cell_type": "code",
   "execution_count": 14,
   "metadata": {},
   "outputs": [
    {
     "name": "stdout",
     "output_type": "stream",
     "text": [
      "1.0\n"
     ]
    },
    {
     "name": "stderr",
     "output_type": "stream",
     "text": [
      "C:\\Users\\ande5\\Anaconda3\\lib\\site-packages\\sklearn\\linear_model\\logistic.py:432: FutureWarning: Default solver will be changed to 'lbfgs' in 0.22. Specify a solver to silence this warning.\n",
      "  FutureWarning)\n"
     ]
    }
   ],
   "source": [
    "from sklearn.linear_model import LogisticRegression\n",
    "from sklearn import preprocessing\n",
    "from sklearn import metrics\n",
    "\n",
    "y = full['winner']\n",
    "X = full.loc[:, 't1t_g':].astype('float')\n",
    "\n",
    "X_stand = pd.DataFrame(preprocessing.scale(X))\n",
    "X_norm = pd.DataFrame(preprocessing.normalize(X, axis = 0))\n",
    "\n",
    "model = LogisticRegression()\n",
    "model.fit(X, y)\n",
    "\n",
    "score = model.score(X,y)\n",
    "print(score)"
   ]
  },
  {
   "cell_type": "code",
   "execution_count": 15,
   "metadata": {},
   "outputs": [],
   "source": [
    "predictions = model.predict(X)"
   ]
  },
  {
   "cell_type": "code",
   "execution_count": 16,
   "metadata": {},
   "outputs": [
    {
     "name": "stdout",
     "output_type": "stream",
     "text": [
      "[[29  0]\n",
      " [ 0 38]]\n"
     ]
    }
   ],
   "source": [
    "cm = metrics.confusion_matrix(y, predictions)\n",
    "print(cm)"
   ]
  },
  {
   "cell_type": "code",
   "execution_count": 17,
   "metadata": {},
   "outputs": [],
   "source": [
    "intercept = pd.DataFrame(model.intercept_, columns = ['intercept'])"
   ]
  },
  {
   "cell_type": "code",
   "execution_count": 18,
   "metadata": {},
   "outputs": [],
   "source": [
    "coefs = model.coef_[0]"
   ]
  },
  {
   "cell_type": "code",
   "execution_count": 19,
   "metadata": {},
   "outputs": [],
   "source": [
    "results = pd.DataFrame(coefs).T"
   ]
  },
  {
   "cell_type": "code",
   "execution_count": 20,
   "metadata": {},
   "outputs": [],
   "source": [
    "col_rename_dict = {i:j for i,j in zip(results.columns,X.columns)}"
   ]
  },
  {
   "cell_type": "code",
   "execution_count": 21,
   "metadata": {},
   "outputs": [],
   "source": [
    "results = results.rename(columns = col_rename_dict)"
   ]
  },
  {
   "cell_type": "code",
   "execution_count": 22,
   "metadata": {},
   "outputs": [],
   "source": [
    "results = pd.concat([intercept, results], axis = 1)"
   ]
  },
  {
   "cell_type": "code",
   "execution_count": 23,
   "metadata": {},
   "outputs": [],
   "source": [
    "results.to_csv(r'Results.csv')"
   ]
  },
  {
   "cell_type": "code",
   "execution_count": 24,
   "metadata": {},
   "outputs": [
    {
     "data": {
      "text/plain": [
       "array([1, 1, 1, 0, 1, 0, 1, 1, 1, 1, 0, 1, 1, 0, 0, 1, 1, 1, 0, 1, 1, 0,\n",
       "       0, 0, 1, 1, 0, 1, 1, 0, 1, 1, 0, 1, 1, 1, 1, 0, 0, 0, 1, 0, 0, 0,\n",
       "       1, 1, 0, 0, 1, 1, 0, 0, 1, 0, 1, 1, 1, 1, 0, 0, 0, 0, 1, 1, 0, 1,\n",
       "       0], dtype=int64)"
      ]
     },
     "execution_count": 24,
     "metadata": {},
     "output_type": "execute_result"
    }
   ],
   "source": [
    "predictions"
   ]
  },
  {
   "cell_type": "code",
   "execution_count": 25,
   "metadata": {},
   "outputs": [
    {
     "data": {
      "text/plain": [
       "array([[-1.32132261e-03,  8.51587478e-03,  1.68377033e-02,\n",
       "        -1.12488376e-02, -9.49567735e-05,  5.31082695e-02,\n",
       "        -5.84758276e-02, -8.71159840e-05, -3.62705661e-02,\n",
       "         4.72269900e-02, -1.35359905e-04,  3.69158584e-02,\n",
       "        -2.85536101e-02, -7.17038255e-05,  6.60226986e-02,\n",
       "        -3.88758385e-02,  2.71468600e-02, -5.68999383e-02,\n",
       "         6.22991092e-02,  1.49425299e-01,  7.10858734e-02,\n",
       "         6.31000250e-02,  3.10073274e-02, -1.60064700e-02,\n",
       "        -1.32132261e-03,  8.51587478e-03,  1.83396283e-02,\n",
       "        -2.28768692e-02, -7.78938602e-05,  2.92893433e-02,\n",
       "        -1.33009464e-02, -5.78004541e-05, -1.09497150e-02,\n",
       "        -9.57592279e-03, -7.99963753e-05, -5.07125090e-02,\n",
       "         7.10297669e-03, -2.58405307e-04,  2.08137107e-02,\n",
       "        -3.53219535e-02, -1.45082428e-02, -1.54366683e-01,\n",
       "         1.31797916e-02, -6.14050160e-03, -6.45143252e-03,\n",
       "        -1.03844717e-01, -2.50739928e-02, -1.49879706e-02,\n",
       "        -5.65472159e-04,  1.32828672e-03,  8.71508844e-02,\n",
       "        -4.79751394e-02, -5.08744689e-05,  9.77753640e-02,\n",
       "        -9.11470631e-03, -3.36841462e-05, -1.06244796e-02,\n",
       "        -3.88604331e-02, -9.10730980e-05, -1.74014069e-01,\n",
       "         2.21305983e-02, -4.03472421e-04, -2.45108866e-02,\n",
       "         4.08345680e-02,  1.63236813e-02, -3.17932276e-02,\n",
       "        -2.83453295e-02,  1.38071769e-02,  2.89838032e-02,\n",
       "         9.99629270e-03, -1.03367792e-02, -1.65313449e-02,\n",
       "        -5.65472159e-04,  1.32828672e-03,  7.68833529e-02,\n",
       "        -1.10515157e-01, -2.35205811e-05,  8.23423436e-02,\n",
       "        -4.87934505e-02, -1.17604162e-05, -5.45899071e-03,\n",
       "        -6.17217063e-02, -6.14632546e-05, -5.38934298e-02,\n",
       "         5.65136301e-02, -3.22990104e-04, -5.89466494e-02,\n",
       "         6.65489065e-02,  7.60225713e-03,  8.61109519e-02,\n",
       "        -5.16810404e-02, -5.66333335e-02,  7.83234012e-03,\n",
       "        -7.36083293e-02,  9.44190198e-02, -1.14923341e-02]])"
      ]
     },
     "execution_count": 25,
     "metadata": {},
     "output_type": "execute_result"
    }
   ],
   "source": [
    "model.coef_"
   ]
  },
  {
   "cell_type": "code",
   "execution_count": 26,
   "metadata": {},
   "outputs": [],
   "source": [
    "for feature in list(cols):\n",
    "    full['t_'+feature] = (full['t1t_'+feature].astype('float') - full['t2t_'+feature].astype('float'))\n",
    "    full['o_'+feature] = (full['t2t_'+feature].astype('float') - full['t2o_'+feature].astype('float'))"
   ]
  },
  {
   "cell_type": "code",
   "execution_count": 27,
   "metadata": {},
   "outputs": [],
   "source": [
    "full.to_csv(r'Full_stats.csv')"
   ]
  },
  {
   "cell_type": "code",
   "execution_count": 28,
   "metadata": {},
   "outputs": [
    {
     "name": "stdout",
     "output_type": "stream",
     "text": [
      "0.9701492537313433\n"
     ]
    },
    {
     "name": "stderr",
     "output_type": "stream",
     "text": [
      "C:\\Users\\ande5\\Anaconda3\\lib\\site-packages\\sklearn\\linear_model\\logistic.py:432: FutureWarning: Default solver will be changed to 'lbfgs' in 0.22. Specify a solver to silence this warning.\n",
      "  FutureWarning)\n"
     ]
    }
   ],
   "source": [
    "y2 = full['winner']\n",
    "X2 = full.loc[:, 't_fg':].astype('float')\n",
    "\n",
    "#X_stand = pd.DataFrame(preprocessing.scale(X))\n",
    "#X_norm = pd.DataFrame(preprocessing.normalize(X, axis = 0))\n",
    "\n",
    "model2 = LogisticRegression()\n",
    "model2.fit(X2, y2)\n",
    "\n",
    "score2 = model2.score(X2,y2)\n",
    "print(score2)"
   ]
  },
  {
   "cell_type": "code",
   "execution_count": 30,
   "metadata": {},
   "outputs": [
    {
     "name": "stdout",
     "output_type": "stream",
     "text": [
      "[[27  2]\n",
      " [ 0 38]]\n"
     ]
    }
   ],
   "source": [
    "predictions2 = model2.predict(X2)\n",
    "cm2 = metrics.confusion_matrix(y2, predictions2)\n",
    "print(cm2)"
   ]
  },
  {
   "cell_type": "code",
   "execution_count": 31,
   "metadata": {},
   "outputs": [],
   "source": [
    "games['pred2'] = (y2 == predictions2)\n",
    "games.to_csv(r'games_pred.csv')"
   ]
  },
  {
   "cell_type": "code",
   "execution_count": 32,
   "metadata": {},
   "outputs": [],
   "source": [
    "coefs2 = model2.coef_[0]\n",
    "results2 = pd.DataFrame(coefs2).T\n",
    "intercept2 = pd.DataFrame(model2.intercept_, columns = ['intercept'])\n",
    "col_rename_dict2 = {i:j for i,j in zip(results2.columns,X2.columns)}\n",
    "results2 = results2.rename(columns = col_rename_dict2)\n",
    "results2 = pd.concat([intercept2, results2], axis = 1)\n",
    "results2.to_csv(r'Results2.csv')"
   ]
  },
  {
   "cell_type": "code",
   "execution_count": null,
   "metadata": {},
   "outputs": [],
   "source": []
  }
 ],
 "metadata": {
  "kernelspec": {
   "display_name": "Python 3",
   "language": "python",
   "name": "python3"
  },
  "language_info": {
   "codemirror_mode": {
    "name": "ipython",
    "version": 3
   },
   "file_extension": ".py",
   "mimetype": "text/x-python",
   "name": "python",
   "nbconvert_exporter": "python",
   "pygments_lexer": "ipython3",
   "version": "3.7.1"
  }
 },
 "nbformat": 4,
 "nbformat_minor": 2
}

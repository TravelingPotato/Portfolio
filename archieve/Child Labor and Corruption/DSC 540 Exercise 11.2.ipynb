{
 "cells": [
  {
   "cell_type": "code",
   "execution_count": 10,
   "metadata": {},
   "outputs": [],
   "source": [
    "import xlrd\n",
    "from xlrd.sheet import ctype_text\n",
    "import agate\n",
    "\n",
    "# define types\n",
    "text_type = agate.Text()\n",
    "number_type = agate.Number()\n",
    "boolean_type = agate.Boolean()\n",
    "date_type = agate.Date()"
   ]
  },
  {
   "cell_type": "code",
   "execution_count": 31,
   "metadata": {},
   "outputs": [],
   "source": [
    "# open workbooks\n",
    "cpi_workbook = xlrd.open_workbook('corruption_perception_index.xls')\n",
    "cpi_sheet = cpi_workbook.sheets()[0]\n",
    "\n",
    "workbook = xlrd.open_workbook('unicef_oct_2014.xls')"
   ]
  },
  {
   "cell_type": "code",
   "execution_count": 33,
   "metadata": {},
   "outputs": [],
   "source": [
    "sheet = workbook.sheets()[0]\n",
    "title_rows = zip(sheet.row_values(4), sheet.row_values(5))\n",
    "# combine the two title options into one string\n",
    "titles = [t[0] + ' ' + t[1] for t in title_rows]\n",
    "\n",
    "titles = [t.strip() for t in titles]\n",
    "country_rows = [sheet.row_values(r) for r in range(6, 114)]"
   ]
  },
  {
   "cell_type": "code",
   "execution_count": 34,
   "metadata": {},
   "outputs": [],
   "source": [
    "def remove_bad_chars(val):\n",
    "\n",
    "# change '-' to null\n",
    "    if val == '-':\n",
    "        return None\n",
    "    return val\n",
    "\n",
    "cleaned_rows = []\n",
    "\n",
    "# use remove_bad_chars to clean data\n",
    "for row in country_rows:\n",
    "    cleaned_row = [remove_bad_chars(rv) for rv in row]\n",
    "    cleaned_rows.append(cleaned_row)"
   ]
  },
  {
   "cell_type": "code",
   "execution_count": 12,
   "metadata": {},
   "outputs": [],
   "source": [
    "# function to identify types in a row\n",
    "def get_types(example_row):\n",
    "    types = []\n",
    "    \n",
    "    for v in example_row:\n",
    "        value_type = ctype_text[v.ctype]\n",
    "        if value_type == 'text':\n",
    "            types.append(text_type)\n",
    "        elif value_type == 'number':\n",
    "            types.append(number_type)\n",
    "        elif value_type == 'xldate':\n",
    "            types.append(date_type)\n",
    "        else: types.append(text_type)\n",
    "        \n",
    "    return types"
   ]
  },
  {
   "cell_type": "code",
   "execution_count": 13,
   "metadata": {},
   "outputs": [],
   "source": [
    "# create table\n",
    "def get_table(new_arr, types, titles):\n",
    "    try:\n",
    "        table = agate.Table(new_arr, titles, types)\n",
    "        return table\n",
    "    \n",
    "    except Exception as e:\n",
    "        print e"
   ]
  },
  {
   "cell_type": "code",
   "execution_count": 20,
   "metadata": {},
   "outputs": [],
   "source": [
    "def get_new_array(old_array, function_to_clean):\n",
    "    new_arr = []\n",
    "    for row in old_array:\n",
    "        cleaned_row = [function_to_clean(rv) for rv in row]\n",
    "        new_arr.append(cleaned_row)\n",
    "    return new_arr"
   ]
  },
  {
   "cell_type": "code",
   "execution_count": 22,
   "metadata": {},
   "outputs": [],
   "source": [
    "def str_to_int(x):\n",
    "    try:\n",
    "        return int(x)\n",
    "    except ValueError:\n",
    "        print 'Could not convert: %s' % x\n",
    "    return x"
   ]
  },
  {
   "cell_type": "code",
   "execution_count": 24,
   "metadata": {},
   "outputs": [],
   "source": [
    "def float_to_str(x):\n",
    "    try:\n",
    "        return str(x)\n",
    "    except ValueError:\n",
    "        print 'Could not convert: %s' % x\n",
    "    return x"
   ]
  },
  {
   "cell_type": "code",
   "execution_count": 36,
   "metadata": {},
   "outputs": [],
   "source": [
    "example_row = sheet.row(6)\n",
    "types = get_types(example_row)"
   ]
  },
  {
   "cell_type": "code",
   "execution_count": 37,
   "metadata": {},
   "outputs": [
    {
     "name": "stderr",
     "output_type": "stream",
     "text": [
      "C:\\Users\\ande5\\Anaconda3\\envs\\py27\\lib\\site-packages\\agate\\utils.py:276: UnnamedColumnWarning: Column 2 has no name. Using \"c\".\n"
     ]
    }
   ],
   "source": [
    "table = agate.Table(cleaned_rows, titles, types)"
   ]
  },
  {
   "cell_type": "code",
   "execution_count": 38,
   "metadata": {},
   "outputs": [
    {
     "name": "stdout",
     "output_type": "stream",
     "text": [
      "| Countries and areas  | Total (%) | c | Sex (%) Male | Female | Place of residenc... | Rural | ... |\n",
      "| -------------------- | --------- | - | ------------ | ------ | -------------------- | ----- | --- |\n",
      "| Afghanistan          |      10.3 |   |         11.0 |    9.6 |                  7.9 |  10.8 | ... |\n",
      "| Albania              |       5.1 | y |          6.2 |    3.9 |                      |       | ... |\n",
      "| Algeria              |       4.7 | y |          5.5 |    3.9 |                  3.9 |   5.6 | ... |\n",
      "| Angola               |      23.5 |   |         22.1 |   24.8 |                      |       | ... |\n",
      "| Argentina            |       4.4 |   |          4.8 |    3.9 |                      |       | ... |\n",
      "| Armenia              |       3.9 |   |          4.7 |    2.9 |                  2.4 |   6.0 | ... |\n",
      "| Azerbaijan           |       6.5 | y |          7.5 |    5.4 |                  2.1 |  10.7 | ... |\n",
      "| Bahrain              |       4.6 |   |          6.3 |    3.0 |                      |       | ... |\n",
      "| Bangladesh           |      12.8 |   |         17.5 |    8.1 |                 11.2 |  13.4 | ... |\n",
      "| Belarus              |       1.4 |   |          1.4 |    1.5 |                  1.3 |   1.8 | ... |\n",
      "| Belize               |       5.8 |   |          6.7 |    5.0 |                  3.2 |   7.4 | ... |\n",
      "| Benin                |      15.3 |   |         14.9 |   15.6 |                 10.5 |  18.1 | ... |\n",
      "| Bhutan               |       2.9 |   |          2.6 |    3.1 |                  1.7 |   3.3 | ... |\n",
      "| Bolivia (Plurinat... |      26.4 | y |         28.2 |   24.4 |                 15.1 |  64.6 | ... |\n",
      "| Bosnia and Herzeg... |       5.3 |   |          6.6 |    3.9 |                  3.2 |   6.4 | ... |\n",
      "| Botswana             |       9.0 | y |         10.9 |    7.0 |                 11.3 |  12.6 | ... |\n",
      "| Brazil               |       8.3 | y |         10.6 |    6.0 |                      |       | ... |\n",
      "| Burkina Faso         |      39.2 |   |         42.3 |   36.0 |                 17.3 |  44.0 | ... |\n",
      "| Burundi              |      26.3 |   |         25.5 |   27.1 |                 14.5 |  27.4 | ... |\n",
      "| Cabo Verde           |       6.4 | y |              |        |                      |       | ... |\n",
      "| ...                  |       ... | ... |          ... |    ... |                  ... |   ... | ... |\n"
     ]
    }
   ],
   "source": [
    "table.print_table(max_columns=7)"
   ]
  },
  {
   "cell_type": "code",
   "execution_count": 15,
   "metadata": {},
   "outputs": [
    {
     "name": "stderr",
     "output_type": "stream",
     "text": [
      "C:\\Users\\ande5\\Anaconda3\\envs\\py27\\lib\\site-packages\\agate\\utils.py:292: DuplicateColumnWarning: Column name \"Country Rank\" already exists in Table. Column will be renamed to \"Country Rank_2\".\n"
     ]
    }
   ],
   "source": [
    "#identify types\n",
    "cpi_types = get_types(cpi_sheet.row(3))\n",
    "cpi_table = get_table(cpi_rows, cpi_types, cpi_titles)"
   ]
  },
  {
   "cell_type": "code",
   "execution_count": 17,
   "metadata": {},
   "outputs": [
    {
     "name": "stdout",
     "output_type": "stream",
     "text": [
      "[u'Country Rank', u'Country / Territory', u'WB Code', u'IFS Code', u'Region', u'Country Rank', u'CPI 2013 Score', u'Surveys Used', u'Standard Error', u'90% Confidence interval Lower', u'Upper', u'Scores range MIN', u'MAX', u'Data sources AFDB', u'BF (SGI)', u'BF (BTI)', u'IMD', u'ICRG', u'WB', u'WEF', u'WJP', u'EIU', u'GI', u'PERC', u'TI', u'FH']\n"
     ]
    }
   ],
   "source": [
    "# print title. We see that there are two Country Rank columns\n",
    "print cpi_titles"
   ]
  },
  {
   "cell_type": "code",
   "execution_count": 18,
   "metadata": {},
   "outputs": [],
   "source": [
    "#identify the duplicate column\n",
    "cpi_titles[0] = cpi_titles[0] + ' Duplicate'\n",
    "cpi_table = get_table(cpi_rows, cpi_types, cpi_titles)"
   ]
  },
  {
   "cell_type": "code",
   "execution_count": 25,
   "metadata": {},
   "outputs": [
    {
     "name": "stdout",
     "output_type": "stream",
     "text": [
      "Could not convert: Côte d´Ivoire\n"
     ]
    }
   ],
   "source": [
    "# create final cpi table\n",
    "cpi_rows = get_new_array(cpi_rows, float_to_str)\n",
    "cpi_table = get_table(cpi_rows, cpi_types, cpi_titles)"
   ]
  },
  {
   "cell_type": "code",
   "execution_count": 27,
   "metadata": {},
   "outputs": [
    {
     "name": "stdout",
     "output_type": "stream",
     "text": [
      "[u'Country Rank Duplicate', u'Country / Territory', u'WB Code', u'IFS Code', u'Region', u'Country Rank', u'CPI 2013 Score', u'Surveys Used', u'Standard Error', u'90% Confidence interval Lower', u'Upper', u'Scores range MIN', u'MAX', u'Data sources AFDB', u'BF (SGI)', u'BF (BTI)', u'IMD', u'ICRG', u'WB', u'WEF', u'WJP', u'EIU', u'GI', u'PERC', u'TI', u'FH']\n"
     ]
    }
   ],
   "source": [
    "print cpi_titles"
   ]
  },
  {
   "cell_type": "code",
   "execution_count": 39,
   "metadata": {},
   "outputs": [],
   "source": [
    "#join tables\n",
    "cpi_and_cl = cpi_table.join(table, 'Country / Territory', 'Countries and areas', inner = True)"
   ]
  },
  {
   "cell_type": "code",
   "execution_count": 41,
   "metadata": {},
   "outputs": [
    {
     "data": {
      "text/plain": [
       "(u'Country Rank Duplicate',\n",
       " u'Country / Territory',\n",
       " u'WB Code',\n",
       " u'IFS Code',\n",
       " u'Region',\n",
       " u'Country Rank',\n",
       " u'CPI 2013 Score',\n",
       " u'Surveys Used',\n",
       " u'Standard Error',\n",
       " u'90% Confidence interval Lower',\n",
       " u'Upper',\n",
       " u'Scores range MIN',\n",
       " u'MAX',\n",
       " u'Data sources AFDB',\n",
       " u'BF (SGI)',\n",
       " u'BF (BTI)',\n",
       " u'IMD',\n",
       " u'ICRG',\n",
       " u'WB',\n",
       " u'WEF',\n",
       " u'WJP',\n",
       " u'EIU',\n",
       " u'GI',\n",
       " u'PERC',\n",
       " u'TI',\n",
       " u'FH',\n",
       " u'Total (%)',\n",
       " 'c',\n",
       " u'Sex (%) Male',\n",
       " u'Female',\n",
       " u'Place of residence (%) Urban',\n",
       " u'Rural',\n",
       " u'Household wealth quintile (%) Poorest',\n",
       " u'Second',\n",
       " u'Middle',\n",
       " u'Fourth',\n",
       " u'Richest',\n",
       " u'Reference Year',\n",
       " u'Data Source')"
      ]
     },
     "execution_count": 41,
     "metadata": {},
     "output_type": "execute_result"
    }
   ],
   "source": [
    "cpi_and_cl.column_names"
   ]
  },
  {
   "cell_type": "code",
   "execution_count": 42,
   "metadata": {},
   "outputs": [
    {
     "name": "stdout",
     "output_type": "stream",
     "text": [
      "Afghanistan: 8.0 - 10.3%\n",
      "Somalia: 8.0 - 49.0%\n",
      "Iraq: 16.0 - 4.7%\n",
      "Yemen: 18.0 - 22.7%\n",
      "Chad: 19.0 - 26.1%\n",
      "Equatorial Guinea: 19.0 - 27.8%\n",
      "Guinea-Bissau: 19.0 - 38.0%\n",
      "Haiti: 19.0 - 24.4%\n",
      "Cambodia: 20.0 - 18.3%\n",
      "Burundi: 21.0 - 26.3%\n"
     ]
    }
   ],
   "source": [
    "# corruption score and % of child labor\n",
    "for r in cpi_and_cl.order_by('CPI 2013 Score').limit(10).rows:\n",
    "    print '{}: {} - {}%'.format(r['Country / Territory'], r['CPI 2013 Score'], r['Total (%)'])"
   ]
  },
  {
   "cell_type": "code",
   "execution_count": null,
   "metadata": {},
   "outputs": [],
   "source": []
  }
 ],
 "metadata": {
  "kernelspec": {
   "display_name": "Python 3",
   "language": "python",
   "name": "python3"
  },
  "language_info": {
   "codemirror_mode": {
    "name": "ipython",
    "version": 3
   },
   "file_extension": ".py",
   "mimetype": "text/x-python",
   "name": "python",
   "nbconvert_exporter": "python",
   "pygments_lexer": "ipython3",
   "version": "3.7.1"
  }
 },
 "nbformat": 4,
 "nbformat_minor": 2
}
